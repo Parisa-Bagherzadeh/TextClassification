{
  "cells": [
    {
      "cell_type": "code",
      "execution_count": 1,
      "metadata": {
        "colab": {
          "base_uri": "https://localhost:8080/"
        },
        "id": "KhVVbeDOuRSn",
        "outputId": "2dd7fb5c-1e7d-4d0f-8a5c-3376624dabff"
      },
      "outputs": [
        {
          "name": "stdout",
          "output_type": "stream",
          "text": [
            "Mounted at drive\n"
          ]
        }
      ],
      "source": [
        "from google.colab import drive\n",
        "drive.mount(\"drive\")"
      ]
    },
    {
      "cell_type": "code",
      "execution_count": 25,
      "metadata": {
        "id": "FB2iBZD5qKh9"
      },
      "outputs": [],
      "source": [
        "import tensorflow as tf\n",
        "import numpy as np\n",
        "import pandas as pd\n"
      ]
    },
    {
      "cell_type": "code",
      "execution_count": 26,
      "metadata": {
        "id": "cOcwh-6fsIm-"
      },
      "outputs": [],
      "source": [
        "def read_csv(file_path):\n",
        "  df = pd.read_csv(file_path)\n",
        "  X = np.array(df[\"sentence\"])\n",
        "  Y = np.array(df[\"label\"], dtype = int)\n",
        "  return X, Y"
      ]
    },
    {
      "cell_type": "code",
      "execution_count": 27,
      "metadata": {
        "id": "OR-DMpbfu-g9"
      },
      "outputs": [],
      "source": [
        "X_train, Y_train = read_csv(\"/content/drive/MyDrive/Emoji_Text_Classification/train.csv\")\n",
        "X_test, Y_test = read_csv(\"/content/drive/MyDrive/Emoji_Text_Classification/test.csv\")"
      ]
    },
    {
      "cell_type": "code",
      "execution_count": 28,
      "metadata": {
        "colab": {
          "base_uri": "https://localhost:8080/"
        },
        "id": "zr3C3tDhwLGS",
        "outputId": "83094376-993e-4c0b-be72-a6026aad0a41"
      },
      "outputs": [
        {
          "data": {
            "text/plain": [
              "('I will celebrate soon', 2)"
            ]
          },
          "execution_count": 28,
          "metadata": {},
          "output_type": "execute_result"
        }
      ],
      "source": [
        "index = 19\n",
        "X_train[index], Y_train[index]"
      ]
    },
    {
      "cell_type": "code",
      "execution_count": 29,
      "metadata": {
        "id": "WgnkiH_bweTu"
      },
      "outputs": [],
      "source": [
        "def label_to_emoji(label):\n",
        "  emojies = [\"❤️\",\"⚽️\",\"😄\",\"😔\",\"🍽\"]\n",
        "  return emojies[label]"
      ]
    },
    {
      "cell_type": "code",
      "execution_count": 30,
      "metadata": {
        "colab": {
          "base_uri": "https://localhost:8080/"
        },
        "id": "PD3H48s1yKyw",
        "outputId": "77772818-ec79-4de0-8b1a-beec1c7ff400"
      },
      "outputs": [
        {
          "data": {
            "text/plain": [
              "('I will celebrate soon', '😄')"
            ]
          },
          "execution_count": 30,
          "metadata": {},
          "output_type": "execute_result"
        }
      ],
      "source": [
        "index = 19\n",
        "X_train[index], label_to_emoji(Y_train[index])"
      ]
    },
    {
      "cell_type": "code",
      "execution_count": 31,
      "metadata": {
        "colab": {
          "base_uri": "https://localhost:8080/"
        },
        "id": "bX1iZFRUyfQB",
        "outputId": "3b8d839c-fe58-4249-c3a2-0d7ed449ea00"
      },
      "outputs": [
        {
          "name": "stdout",
          "output_type": "stream",
          "text": [
            "[0 1 2 3 4]\n",
            "[22 19 38 36 17]\n"
          ]
        }
      ],
      "source": [
        "unique, counts = np.unique(Y_train, return_counts = True)\n",
        "print(unique)\n",
        "print(counts)"
      ]
    },
    {
      "cell_type": "code",
      "execution_count": 32,
      "metadata": {
        "colab": {
          "base_uri": "https://localhost:8080/"
        },
        "id": "eAP-EV8e0IkE",
        "outputId": "6328d9e4-7c3f-4486-8ce1-05487fc247ce"
      },
      "outputs": [
        {
          "data": {
            "text/plain": [
              "10"
            ]
          },
          "execution_count": 32,
          "metadata": {},
          "output_type": "execute_result"
        }
      ],
      "source": [
        "max_len = len(max(X_train, key = len).split(\" \"))\n",
        "max_len"
      ]
    },
    {
      "cell_type": "code",
      "execution_count": 33,
      "metadata": {
        "id": "Fe1eLdhO1zrc"
      },
      "outputs": [],
      "source": [
        "!wget https://nlp.stanford.edu/data/glove.6B.zip\n",
        "!unzip -q glove.6B.zip -d glov.6B"
      ]
    },
    {
      "cell_type": "code",
      "execution_count": 35,
      "metadata": {
        "id": "E6owYXugAmTx"
      },
      "outputs": [],
      "source": [
        "f = open(\"/content/glov.6B/glove.6B.50d.txt\", encoding = \"utf-8\")\n",
        "\n",
        "word_vectors = {}\n",
        "\n",
        "for line in f:\n",
        "  line = line.strip().split()\n",
        "  word = line[0]\n",
        "  vector = np.array(line[1:], dtype = np.float64)\n",
        "  word_vectors[word] = vector"
      ]
    },
    {
      "cell_type": "code",
      "execution_count": null,
      "metadata": {
        "id": "INl-Gzq0HAf9"
      },
      "outputs": [],
      "source": [
        "word_vectors[\"mindset\"]"
      ]
    },
    {
      "cell_type": "code",
      "execution_count": 37,
      "metadata": {
        "id": "UcgjVdeqHIRY"
      },
      "outputs": [],
      "source": [
        "def sentence_to_avg(sentence):\n",
        "  try:\n",
        "    sentence = sentence.lower()\n",
        "    words = sentence.strip().split(\" \")\n",
        "    sum_vectors = np.zeros((50, ))\n",
        "    for word in words:\n",
        "      sum_vectors += word_vectors[word]\n",
        "\n",
        "    avg_vector = sum_vectors / len(words)\n",
        "\n",
        "    return avg_vector\n",
        "\n",
        "  except:\n",
        "    print(sentence)\n"
      ]
    },
    {
      "cell_type": "code",
      "execution_count": 62,
      "metadata": {
        "colab": {
          "base_uri": "https://localhost:8080/"
        },
        "id": "hxo2sTiJMeFG",
        "outputId": "f9aa55d8-e35b-484c-d191-0428c28b24ea"
      },
      "outputs": [
        {
          "data": {
            "text/plain": [
              "(50,)"
            ]
          },
          "execution_count": 62,
          "metadata": {},
          "output_type": "execute_result"
        }
      ],
      "source": [
        "mytest = sentence_to_avg(\"She is ambitious\")\n",
        "mytest.shape"
      ]
    },
    {
      "cell_type": "code",
      "execution_count": 63,
      "metadata": {
        "colab": {
          "base_uri": "https://localhost:8080/"
        },
        "id": "UwfWT4X1M0qz",
        "outputId": "e6971ba1-f990-47e9-9b64-e8dfdbefbf45"
      },
      "outputs": [
        {
          "data": {
            "text/plain": [
              "(132, 50)"
            ]
          },
          "execution_count": 63,
          "metadata": {},
          "output_type": "execute_result"
        }
      ],
      "source": [
        "X_train_avg = []\n",
        "\n",
        "for x_train in X_train:\n",
        "  X_train_avg.append(sentence_to_avg(x_train))\n",
        "\n",
        "X_train_avg = np.array(X_train_avg)\n",
        "\n",
        "X_train_avg.shape\n"
      ]
    },
    {
      "cell_type": "code",
      "execution_count": null,
      "metadata": {
        "id": "qHqKTmtoRn-L"
      },
      "outputs": [],
      "source": [
        "Y_train_one_hot = tf.keras.utils.to_categorical(Y_train, num_classes = 5)\n",
        "Y_train_one_hot"
      ]
    },
    {
      "cell_type": "code",
      "execution_count": 65,
      "metadata": {
        "id": "9gM0I4CkR-eV"
      },
      "outputs": [],
      "source": [
        "model = tf.keras.models.Sequential([\n",
        "    tf.keras.layers.Dense(5, input_shape = (50,), activation = \"softmax\")\n",
        "])"
      ]
    },
    {
      "cell_type": "code",
      "execution_count": 66,
      "metadata": {
        "id": "fOVo5B7OSfKS"
      },
      "outputs": [],
      "source": [
        "model.compile (\n",
        "   tf.keras.optimizers.Adam(),\n",
        "   loss = \"categorical_crossentropy\",\n",
        "   metrics = [\"accuracy\"]\n",
        ")\n"
      ]
    },
    {
      "cell_type": "code",
      "execution_count": 67,
      "metadata": {
        "colab": {
          "base_uri": "https://localhost:8080/"
        },
        "id": "xOS942XkSznH",
        "outputId": "c107184c-4569-42f0-8984-2ed3f624067f"
      },
      "outputs": [
        {
          "name": "stdout",
          "output_type": "stream",
          "text": [
            "Epoch 1/250\n",
            "5/5 [==============================] - 0s 4ms/step - loss: 1.6394 - accuracy: 0.2727\n",
            "Epoch 2/250\n",
            "5/5 [==============================] - 0s 3ms/step - loss: 1.6198 - accuracy: 0.2803\n",
            "Epoch 3/250\n",
            "5/5 [==============================] - 0s 3ms/step - loss: 1.6053 - accuracy: 0.2727\n",
            "Epoch 4/250\n",
            "5/5 [==============================] - 0s 4ms/step - loss: 1.5914 - accuracy: 0.2727\n",
            "Epoch 5/250\n",
            "5/5 [==============================] - 0s 3ms/step - loss: 1.5785 - accuracy: 0.2955\n",
            "Epoch 6/250\n",
            "5/5 [==============================] - 0s 3ms/step - loss: 1.5655 - accuracy: 0.3030\n",
            "Epoch 7/250\n",
            "5/5 [==============================] - 0s 3ms/step - loss: 1.5546 - accuracy: 0.2955\n",
            "Epoch 8/250\n",
            "5/5 [==============================] - 0s 3ms/step - loss: 1.5441 - accuracy: 0.2879\n",
            "Epoch 9/250\n",
            "5/5 [==============================] - 0s 4ms/step - loss: 1.5331 - accuracy: 0.2803\n",
            "Epoch 10/250\n",
            "5/5 [==============================] - 0s 3ms/step - loss: 1.5237 - accuracy: 0.3030\n",
            "Epoch 11/250\n",
            "5/5 [==============================] - 0s 4ms/step - loss: 1.5136 - accuracy: 0.2955\n",
            "Epoch 12/250\n",
            "5/5 [==============================] - 0s 3ms/step - loss: 1.5045 - accuracy: 0.3030\n",
            "Epoch 13/250\n",
            "5/5 [==============================] - 0s 4ms/step - loss: 1.4964 - accuracy: 0.3106\n",
            "Epoch 14/250\n",
            "5/5 [==============================] - 0s 3ms/step - loss: 1.4874 - accuracy: 0.3258\n",
            "Epoch 15/250\n",
            "5/5 [==============================] - 0s 4ms/step - loss: 1.4787 - accuracy: 0.3258\n",
            "Epoch 16/250\n",
            "5/5 [==============================] - 0s 3ms/step - loss: 1.4692 - accuracy: 0.3409\n",
            "Epoch 17/250\n",
            "5/5 [==============================] - 0s 4ms/step - loss: 1.4611 - accuracy: 0.3561\n",
            "Epoch 18/250\n",
            "5/5 [==============================] - 0s 3ms/step - loss: 1.4524 - accuracy: 0.3636\n",
            "Epoch 19/250\n",
            "5/5 [==============================] - 0s 3ms/step - loss: 1.4432 - accuracy: 0.3712\n",
            "Epoch 20/250\n",
            "5/5 [==============================] - 0s 3ms/step - loss: 1.4342 - accuracy: 0.3712\n",
            "Epoch 21/250\n",
            "5/5 [==============================] - 0s 3ms/step - loss: 1.4253 - accuracy: 0.3712\n",
            "Epoch 22/250\n",
            "5/5 [==============================] - 0s 3ms/step - loss: 1.4165 - accuracy: 0.3939\n",
            "Epoch 23/250\n",
            "5/5 [==============================] - 0s 3ms/step - loss: 1.4088 - accuracy: 0.4091\n",
            "Epoch 24/250\n",
            "5/5 [==============================] - 0s 3ms/step - loss: 1.3997 - accuracy: 0.4167\n",
            "Epoch 25/250\n",
            "5/5 [==============================] - 0s 3ms/step - loss: 1.3928 - accuracy: 0.4394\n",
            "Epoch 26/250\n",
            "5/5 [==============================] - 0s 3ms/step - loss: 1.3842 - accuracy: 0.4621\n",
            "Epoch 27/250\n",
            "5/5 [==============================] - 0s 3ms/step - loss: 1.3756 - accuracy: 0.4697\n",
            "Epoch 28/250\n",
            "5/5 [==============================] - 0s 3ms/step - loss: 1.3682 - accuracy: 0.4621\n",
            "Epoch 29/250\n",
            "5/5 [==============================] - 0s 3ms/step - loss: 1.3606 - accuracy: 0.4697\n",
            "Epoch 30/250\n",
            "5/5 [==============================] - 0s 3ms/step - loss: 1.3534 - accuracy: 0.4773\n",
            "Epoch 31/250\n",
            "5/5 [==============================] - 0s 3ms/step - loss: 1.3465 - accuracy: 0.4848\n",
            "Epoch 32/250\n",
            "5/5 [==============================] - 0s 5ms/step - loss: 1.3394 - accuracy: 0.5000\n",
            "Epoch 33/250\n",
            "5/5 [==============================] - 0s 3ms/step - loss: 1.3321 - accuracy: 0.5152\n",
            "Epoch 34/250\n",
            "5/5 [==============================] - 0s 3ms/step - loss: 1.3255 - accuracy: 0.5076\n",
            "Epoch 35/250\n",
            "5/5 [==============================] - 0s 5ms/step - loss: 1.3180 - accuracy: 0.5227\n",
            "Epoch 36/250\n",
            "5/5 [==============================] - 0s 3ms/step - loss: 1.3119 - accuracy: 0.5227\n",
            "Epoch 37/250\n",
            "5/5 [==============================] - 0s 4ms/step - loss: 1.3052 - accuracy: 0.5227\n",
            "Epoch 38/250\n",
            "5/5 [==============================] - 0s 3ms/step - loss: 1.2989 - accuracy: 0.5152\n",
            "Epoch 39/250\n",
            "5/5 [==============================] - 0s 3ms/step - loss: 1.2926 - accuracy: 0.5455\n",
            "Epoch 40/250\n",
            "5/5 [==============================] - 0s 5ms/step - loss: 1.2865 - accuracy: 0.5455\n",
            "Epoch 41/250\n",
            "5/5 [==============================] - 0s 3ms/step - loss: 1.2802 - accuracy: 0.5455\n",
            "Epoch 42/250\n",
            "5/5 [==============================] - 0s 3ms/step - loss: 1.2744 - accuracy: 0.5606\n",
            "Epoch 43/250\n",
            "5/5 [==============================] - 0s 3ms/step - loss: 1.2683 - accuracy: 0.5606\n",
            "Epoch 44/250\n",
            "5/5 [==============================] - 0s 3ms/step - loss: 1.2621 - accuracy: 0.5758\n",
            "Epoch 45/250\n",
            "5/5 [==============================] - 0s 4ms/step - loss: 1.2554 - accuracy: 0.5833\n",
            "Epoch 46/250\n",
            "5/5 [==============================] - 0s 3ms/step - loss: 1.2490 - accuracy: 0.5758\n",
            "Epoch 47/250\n",
            "5/5 [==============================] - 0s 3ms/step - loss: 1.2432 - accuracy: 0.5682\n",
            "Epoch 48/250\n",
            "5/5 [==============================] - 0s 4ms/step - loss: 1.2381 - accuracy: 0.5758\n",
            "Epoch 49/250\n",
            "5/5 [==============================] - 0s 4ms/step - loss: 1.2318 - accuracy: 0.6061\n",
            "Epoch 50/250\n",
            "5/5 [==============================] - 0s 4ms/step - loss: 1.2259 - accuracy: 0.5985\n",
            "Epoch 51/250\n",
            "5/5 [==============================] - 0s 4ms/step - loss: 1.2208 - accuracy: 0.6061\n",
            "Epoch 52/250\n",
            "5/5 [==============================] - 0s 4ms/step - loss: 1.2151 - accuracy: 0.6136\n",
            "Epoch 53/250\n",
            "5/5 [==============================] - 0s 4ms/step - loss: 1.2099 - accuracy: 0.6212\n",
            "Epoch 54/250\n",
            "5/5 [==============================] - 0s 4ms/step - loss: 1.2039 - accuracy: 0.6439\n",
            "Epoch 55/250\n",
            "5/5 [==============================] - 0s 3ms/step - loss: 1.1990 - accuracy: 0.6439\n",
            "Epoch 56/250\n",
            "5/5 [==============================] - 0s 4ms/step - loss: 1.1934 - accuracy: 0.6364\n",
            "Epoch 57/250\n",
            "5/5 [==============================] - 0s 3ms/step - loss: 1.1880 - accuracy: 0.6364\n",
            "Epoch 58/250\n",
            "5/5 [==============================] - 0s 3ms/step - loss: 1.1824 - accuracy: 0.6515\n",
            "Epoch 59/250\n",
            "5/5 [==============================] - 0s 3ms/step - loss: 1.1772 - accuracy: 0.6439\n",
            "Epoch 60/250\n",
            "5/5 [==============================] - 0s 3ms/step - loss: 1.1723 - accuracy: 0.6439\n",
            "Epoch 61/250\n",
            "5/5 [==============================] - 0s 3ms/step - loss: 1.1669 - accuracy: 0.6515\n",
            "Epoch 62/250\n",
            "5/5 [==============================] - 0s 3ms/step - loss: 1.1623 - accuracy: 0.6591\n",
            "Epoch 63/250\n",
            "5/5 [==============================] - 0s 4ms/step - loss: 1.1571 - accuracy: 0.6439\n",
            "Epoch 64/250\n",
            "5/5 [==============================] - 0s 4ms/step - loss: 1.1522 - accuracy: 0.6364\n",
            "Epoch 65/250\n",
            "5/5 [==============================] - 0s 3ms/step - loss: 1.1473 - accuracy: 0.6515\n",
            "Epoch 66/250\n",
            "5/5 [==============================] - 0s 4ms/step - loss: 1.1423 - accuracy: 0.6591\n",
            "Epoch 67/250\n",
            "5/5 [==============================] - 0s 5ms/step - loss: 1.1374 - accuracy: 0.6591\n",
            "Epoch 68/250\n",
            "5/5 [==============================] - 0s 5ms/step - loss: 1.1326 - accuracy: 0.6591\n",
            "Epoch 69/250\n",
            "5/5 [==============================] - 0s 4ms/step - loss: 1.1280 - accuracy: 0.6591\n",
            "Epoch 70/250\n",
            "5/5 [==============================] - 0s 4ms/step - loss: 1.1234 - accuracy: 0.6591\n",
            "Epoch 71/250\n",
            "5/5 [==============================] - 0s 4ms/step - loss: 1.1185 - accuracy: 0.6591\n",
            "Epoch 72/250\n",
            "5/5 [==============================] - 0s 4ms/step - loss: 1.1137 - accuracy: 0.6818\n",
            "Epoch 73/250\n",
            "5/5 [==============================] - 0s 6ms/step - loss: 1.1091 - accuracy: 0.6742\n",
            "Epoch 74/250\n",
            "5/5 [==============================] - 0s 5ms/step - loss: 1.1051 - accuracy: 0.6742\n",
            "Epoch 75/250\n",
            "5/5 [==============================] - 0s 5ms/step - loss: 1.1010 - accuracy: 0.6667\n",
            "Epoch 76/250\n",
            "5/5 [==============================] - 0s 5ms/step - loss: 1.0964 - accuracy: 0.6667\n",
            "Epoch 77/250\n",
            "5/5 [==============================] - 0s 5ms/step - loss: 1.0922 - accuracy: 0.6818\n",
            "Epoch 78/250\n",
            "5/5 [==============================] - 0s 5ms/step - loss: 1.0876 - accuracy: 0.7045\n",
            "Epoch 79/250\n",
            "5/5 [==============================] - 0s 6ms/step - loss: 1.0833 - accuracy: 0.7121\n",
            "Epoch 80/250\n",
            "5/5 [==============================] - 0s 5ms/step - loss: 1.0791 - accuracy: 0.7045\n",
            "Epoch 81/250\n",
            "5/5 [==============================] - 0s 5ms/step - loss: 1.0748 - accuracy: 0.7121\n",
            "Epoch 82/250\n",
            "5/5 [==============================] - 0s 5ms/step - loss: 1.0709 - accuracy: 0.7121\n",
            "Epoch 83/250\n",
            "5/5 [==============================] - 0s 5ms/step - loss: 1.0665 - accuracy: 0.7197\n",
            "Epoch 84/250\n",
            "5/5 [==============================] - 0s 5ms/step - loss: 1.0624 - accuracy: 0.7121\n",
            "Epoch 85/250\n",
            "5/5 [==============================] - 0s 5ms/step - loss: 1.0581 - accuracy: 0.7121\n",
            "Epoch 86/250\n",
            "5/5 [==============================] - 0s 5ms/step - loss: 1.0540 - accuracy: 0.7121\n",
            "Epoch 87/250\n",
            "5/5 [==============================] - 0s 5ms/step - loss: 1.0498 - accuracy: 0.7197\n",
            "Epoch 88/250\n",
            "5/5 [==============================] - 0s 4ms/step - loss: 1.0462 - accuracy: 0.7197\n",
            "Epoch 89/250\n",
            "5/5 [==============================] - 0s 4ms/step - loss: 1.0422 - accuracy: 0.7197\n",
            "Epoch 90/250\n",
            "5/5 [==============================] - 0s 4ms/step - loss: 1.0382 - accuracy: 0.7273\n",
            "Epoch 91/250\n",
            "5/5 [==============================] - 0s 5ms/step - loss: 1.0346 - accuracy: 0.7348\n",
            "Epoch 92/250\n",
            "5/5 [==============================] - 0s 4ms/step - loss: 1.0308 - accuracy: 0.7348\n",
            "Epoch 93/250\n",
            "5/5 [==============================] - 0s 5ms/step - loss: 1.0272 - accuracy: 0.7348\n",
            "Epoch 94/250\n",
            "5/5 [==============================] - 0s 5ms/step - loss: 1.0233 - accuracy: 0.7348\n",
            "Epoch 95/250\n",
            "5/5 [==============================] - 0s 4ms/step - loss: 1.0197 - accuracy: 0.7348\n",
            "Epoch 96/250\n",
            "5/5 [==============================] - 0s 4ms/step - loss: 1.0162 - accuracy: 0.7348\n",
            "Epoch 97/250\n",
            "5/5 [==============================] - 0s 5ms/step - loss: 1.0128 - accuracy: 0.7197\n",
            "Epoch 98/250\n",
            "5/5 [==============================] - 0s 4ms/step - loss: 1.0090 - accuracy: 0.7197\n",
            "Epoch 99/250\n",
            "5/5 [==============================] - 0s 4ms/step - loss: 1.0057 - accuracy: 0.7045\n",
            "Epoch 100/250\n",
            "5/5 [==============================] - 0s 5ms/step - loss: 1.0032 - accuracy: 0.7045\n",
            "Epoch 101/250\n",
            "5/5 [==============================] - 0s 5ms/step - loss: 0.9997 - accuracy: 0.7045\n",
            "Epoch 102/250\n",
            "5/5 [==============================] - 0s 4ms/step - loss: 0.9966 - accuracy: 0.7121\n",
            "Epoch 103/250\n",
            "5/5 [==============================] - 0s 4ms/step - loss: 0.9928 - accuracy: 0.7273\n",
            "Epoch 104/250\n",
            "5/5 [==============================] - 0s 5ms/step - loss: 0.9897 - accuracy: 0.7348\n",
            "Epoch 105/250\n",
            "5/5 [==============================] - 0s 4ms/step - loss: 0.9870 - accuracy: 0.7121\n",
            "Epoch 106/250\n",
            "5/5 [==============================] - 0s 4ms/step - loss: 0.9832 - accuracy: 0.7197\n",
            "Epoch 107/250\n",
            "5/5 [==============================] - 0s 4ms/step - loss: 0.9795 - accuracy: 0.7424\n",
            "Epoch 108/250\n",
            "5/5 [==============================] - 0s 4ms/step - loss: 0.9768 - accuracy: 0.7500\n",
            "Epoch 109/250\n",
            "5/5 [==============================] - 0s 4ms/step - loss: 0.9729 - accuracy: 0.7500\n",
            "Epoch 110/250\n",
            "5/5 [==============================] - 0s 4ms/step - loss: 0.9698 - accuracy: 0.7500\n",
            "Epoch 111/250\n",
            "5/5 [==============================] - 0s 4ms/step - loss: 0.9661 - accuracy: 0.7500\n",
            "Epoch 112/250\n",
            "5/5 [==============================] - 0s 4ms/step - loss: 0.9627 - accuracy: 0.7424\n",
            "Epoch 113/250\n",
            "5/5 [==============================] - 0s 4ms/step - loss: 0.9600 - accuracy: 0.7348\n",
            "Epoch 114/250\n",
            "5/5 [==============================] - 0s 5ms/step - loss: 0.9567 - accuracy: 0.7273\n",
            "Epoch 115/250\n",
            "5/5 [==============================] - 0s 6ms/step - loss: 0.9537 - accuracy: 0.7197\n",
            "Epoch 116/250\n",
            "5/5 [==============================] - 0s 6ms/step - loss: 0.9506 - accuracy: 0.7197\n",
            "Epoch 117/250\n",
            "5/5 [==============================] - 0s 6ms/step - loss: 0.9474 - accuracy: 0.7197\n",
            "Epoch 118/250\n",
            "5/5 [==============================] - 0s 4ms/step - loss: 0.9442 - accuracy: 0.7197\n",
            "Epoch 119/250\n",
            "5/5 [==============================] - 0s 4ms/step - loss: 0.9412 - accuracy: 0.7273\n",
            "Epoch 120/250\n",
            "5/5 [==============================] - 0s 5ms/step - loss: 0.9382 - accuracy: 0.7273\n",
            "Epoch 121/250\n",
            "5/5 [==============================] - 0s 4ms/step - loss: 0.9356 - accuracy: 0.7273\n",
            "Epoch 122/250\n",
            "5/5 [==============================] - 0s 5ms/step - loss: 0.9324 - accuracy: 0.7348\n",
            "Epoch 123/250\n",
            "5/5 [==============================] - 0s 5ms/step - loss: 0.9292 - accuracy: 0.7273\n",
            "Epoch 124/250\n",
            "5/5 [==============================] - 0s 5ms/step - loss: 0.9266 - accuracy: 0.7273\n",
            "Epoch 125/250\n",
            "5/5 [==============================] - 0s 4ms/step - loss: 0.9243 - accuracy: 0.7348\n",
            "Epoch 126/250\n",
            "5/5 [==============================] - 0s 5ms/step - loss: 0.9210 - accuracy: 0.7348\n",
            "Epoch 127/250\n",
            "5/5 [==============================] - 0s 4ms/step - loss: 0.9180 - accuracy: 0.7348\n",
            "Epoch 128/250\n",
            "5/5 [==============================] - 0s 4ms/step - loss: 0.9156 - accuracy: 0.7348\n",
            "Epoch 129/250\n",
            "5/5 [==============================] - 0s 4ms/step - loss: 0.9125 - accuracy: 0.7348\n",
            "Epoch 130/250\n",
            "5/5 [==============================] - 0s 4ms/step - loss: 0.9097 - accuracy: 0.7348\n",
            "Epoch 131/250\n",
            "5/5 [==============================] - 0s 5ms/step - loss: 0.9068 - accuracy: 0.7348\n",
            "Epoch 132/250\n",
            "5/5 [==============================] - 0s 5ms/step - loss: 0.9050 - accuracy: 0.7348\n",
            "Epoch 133/250\n",
            "5/5 [==============================] - 0s 6ms/step - loss: 0.9023 - accuracy: 0.7348\n",
            "Epoch 134/250\n",
            "5/5 [==============================] - 0s 5ms/step - loss: 0.8991 - accuracy: 0.7348\n",
            "Epoch 135/250\n",
            "5/5 [==============================] - 0s 4ms/step - loss: 0.8965 - accuracy: 0.7424\n",
            "Epoch 136/250\n",
            "5/5 [==============================] - 0s 4ms/step - loss: 0.8939 - accuracy: 0.7424\n",
            "Epoch 137/250\n",
            "5/5 [==============================] - 0s 4ms/step - loss: 0.8914 - accuracy: 0.7424\n",
            "Epoch 138/250\n",
            "5/5 [==============================] - 0s 5ms/step - loss: 0.8891 - accuracy: 0.7424\n",
            "Epoch 139/250\n",
            "5/5 [==============================] - 0s 4ms/step - loss: 0.8862 - accuracy: 0.7424\n",
            "Epoch 140/250\n",
            "5/5 [==============================] - 0s 5ms/step - loss: 0.8838 - accuracy: 0.7424\n",
            "Epoch 141/250\n",
            "5/5 [==============================] - 0s 5ms/step - loss: 0.8812 - accuracy: 0.7424\n",
            "Epoch 142/250\n",
            "5/5 [==============================] - 0s 4ms/step - loss: 0.8788 - accuracy: 0.7424\n",
            "Epoch 143/250\n",
            "5/5 [==============================] - 0s 4ms/step - loss: 0.8762 - accuracy: 0.7424\n",
            "Epoch 144/250\n",
            "5/5 [==============================] - 0s 5ms/step - loss: 0.8737 - accuracy: 0.7500\n",
            "Epoch 145/250\n",
            "5/5 [==============================] - 0s 5ms/step - loss: 0.8714 - accuracy: 0.7348\n",
            "Epoch 146/250\n",
            "5/5 [==============================] - 0s 4ms/step - loss: 0.8695 - accuracy: 0.7348\n",
            "Epoch 147/250\n",
            "5/5 [==============================] - 0s 4ms/step - loss: 0.8674 - accuracy: 0.7348\n",
            "Epoch 148/250\n",
            "5/5 [==============================] - 0s 5ms/step - loss: 0.8652 - accuracy: 0.7348\n",
            "Epoch 149/250\n",
            "5/5 [==============================] - 0s 4ms/step - loss: 0.8632 - accuracy: 0.7348\n",
            "Epoch 150/250\n",
            "5/5 [==============================] - 0s 5ms/step - loss: 0.8609 - accuracy: 0.7424\n",
            "Epoch 151/250\n",
            "5/5 [==============================] - 0s 4ms/step - loss: 0.8588 - accuracy: 0.7424\n",
            "Epoch 152/250\n",
            "5/5 [==============================] - 0s 7ms/step - loss: 0.8571 - accuracy: 0.7500\n",
            "Epoch 153/250\n",
            "5/5 [==============================] - 0s 5ms/step - loss: 0.8550 - accuracy: 0.7500\n",
            "Epoch 154/250\n",
            "5/5 [==============================] - 0s 5ms/step - loss: 0.8526 - accuracy: 0.7576\n",
            "Epoch 155/250\n",
            "5/5 [==============================] - 0s 4ms/step - loss: 0.8503 - accuracy: 0.7576\n",
            "Epoch 156/250\n",
            "5/5 [==============================] - 0s 4ms/step - loss: 0.8477 - accuracy: 0.7500\n",
            "Epoch 157/250\n",
            "5/5 [==============================] - 0s 4ms/step - loss: 0.8454 - accuracy: 0.7424\n",
            "Epoch 158/250\n",
            "5/5 [==============================] - 0s 5ms/step - loss: 0.8429 - accuracy: 0.7424\n",
            "Epoch 159/250\n",
            "5/5 [==============================] - 0s 4ms/step - loss: 0.8406 - accuracy: 0.7424\n",
            "Epoch 160/250\n",
            "5/5 [==============================] - 0s 5ms/step - loss: 0.8385 - accuracy: 0.7424\n",
            "Epoch 161/250\n",
            "5/5 [==============================] - 0s 4ms/step - loss: 0.8368 - accuracy: 0.7424\n",
            "Epoch 162/250\n",
            "5/5 [==============================] - 0s 4ms/step - loss: 0.8348 - accuracy: 0.7424\n",
            "Epoch 163/250\n",
            "5/5 [==============================] - 0s 4ms/step - loss: 0.8328 - accuracy: 0.7424\n",
            "Epoch 164/250\n",
            "5/5 [==============================] - 0s 5ms/step - loss: 0.8307 - accuracy: 0.7424\n",
            "Epoch 165/250\n",
            "5/5 [==============================] - 0s 5ms/step - loss: 0.8285 - accuracy: 0.7424\n",
            "Epoch 166/250\n",
            "5/5 [==============================] - 0s 4ms/step - loss: 0.8269 - accuracy: 0.7424\n",
            "Epoch 167/250\n",
            "5/5 [==============================] - 0s 4ms/step - loss: 0.8242 - accuracy: 0.7500\n",
            "Epoch 168/250\n",
            "5/5 [==============================] - 0s 4ms/step - loss: 0.8227 - accuracy: 0.7576\n",
            "Epoch 169/250\n",
            "5/5 [==============================] - 0s 4ms/step - loss: 0.8199 - accuracy: 0.7652\n",
            "Epoch 170/250\n",
            "5/5 [==============================] - 0s 5ms/step - loss: 0.8178 - accuracy: 0.7652\n",
            "Epoch 171/250\n",
            "5/5 [==============================] - 0s 4ms/step - loss: 0.8159 - accuracy: 0.7652\n",
            "Epoch 172/250\n",
            "5/5 [==============================] - 0s 4ms/step - loss: 0.8138 - accuracy: 0.7652\n",
            "Epoch 173/250\n",
            "5/5 [==============================] - 0s 4ms/step - loss: 0.8118 - accuracy: 0.7652\n",
            "Epoch 174/250\n",
            "5/5 [==============================] - 0s 5ms/step - loss: 0.8097 - accuracy: 0.7652\n",
            "Epoch 175/250\n",
            "5/5 [==============================] - 0s 5ms/step - loss: 0.8075 - accuracy: 0.7727\n",
            "Epoch 176/250\n",
            "5/5 [==============================] - 0s 4ms/step - loss: 0.8054 - accuracy: 0.7652\n",
            "Epoch 177/250\n",
            "5/5 [==============================] - 0s 5ms/step - loss: 0.8038 - accuracy: 0.7576\n",
            "Epoch 178/250\n",
            "5/5 [==============================] - 0s 5ms/step - loss: 0.8019 - accuracy: 0.7576\n",
            "Epoch 179/250\n",
            "5/5 [==============================] - 0s 4ms/step - loss: 0.7998 - accuracy: 0.7500\n",
            "Epoch 180/250\n",
            "5/5 [==============================] - 0s 5ms/step - loss: 0.7980 - accuracy: 0.7500\n",
            "Epoch 181/250\n",
            "5/5 [==============================] - 0s 5ms/step - loss: 0.7963 - accuracy: 0.7500\n",
            "Epoch 182/250\n",
            "5/5 [==============================] - 0s 5ms/step - loss: 0.7944 - accuracy: 0.7500\n",
            "Epoch 183/250\n",
            "5/5 [==============================] - 0s 6ms/step - loss: 0.7925 - accuracy: 0.7500\n",
            "Epoch 184/250\n",
            "5/5 [==============================] - 0s 5ms/step - loss: 0.7905 - accuracy: 0.7500\n",
            "Epoch 185/250\n",
            "5/5 [==============================] - 0s 4ms/step - loss: 0.7885 - accuracy: 0.7500\n",
            "Epoch 186/250\n",
            "5/5 [==============================] - 0s 4ms/step - loss: 0.7868 - accuracy: 0.7500\n",
            "Epoch 187/250\n",
            "5/5 [==============================] - 0s 5ms/step - loss: 0.7849 - accuracy: 0.7424\n",
            "Epoch 188/250\n",
            "5/5 [==============================] - 0s 6ms/step - loss: 0.7833 - accuracy: 0.7424\n",
            "Epoch 189/250\n",
            "5/5 [==============================] - 0s 6ms/step - loss: 0.7810 - accuracy: 0.7424\n",
            "Epoch 190/250\n",
            "5/5 [==============================] - 0s 6ms/step - loss: 0.7793 - accuracy: 0.7424\n",
            "Epoch 191/250\n",
            "5/5 [==============================] - 0s 6ms/step - loss: 0.7778 - accuracy: 0.7500\n",
            "Epoch 192/250\n",
            "5/5 [==============================] - 0s 6ms/step - loss: 0.7761 - accuracy: 0.7500\n",
            "Epoch 193/250\n",
            "5/5 [==============================] - 0s 5ms/step - loss: 0.7742 - accuracy: 0.7424\n",
            "Epoch 194/250\n",
            "5/5 [==============================] - 0s 5ms/step - loss: 0.7722 - accuracy: 0.7424\n",
            "Epoch 195/250\n",
            "5/5 [==============================] - 0s 5ms/step - loss: 0.7706 - accuracy: 0.7424\n",
            "Epoch 196/250\n",
            "5/5 [==============================] - 0s 5ms/step - loss: 0.7685 - accuracy: 0.7424\n",
            "Epoch 197/250\n",
            "5/5 [==============================] - 0s 6ms/step - loss: 0.7677 - accuracy: 0.7576\n",
            "Epoch 198/250\n",
            "5/5 [==============================] - 0s 4ms/step - loss: 0.7662 - accuracy: 0.7652\n",
            "Epoch 199/250\n",
            "5/5 [==============================] - 0s 4ms/step - loss: 0.7650 - accuracy: 0.7652\n",
            "Epoch 200/250\n",
            "5/5 [==============================] - 0s 4ms/step - loss: 0.7628 - accuracy: 0.7652\n",
            "Epoch 201/250\n",
            "5/5 [==============================] - 0s 4ms/step - loss: 0.7613 - accuracy: 0.7803\n",
            "Epoch 202/250\n",
            "5/5 [==============================] - 0s 4ms/step - loss: 0.7593 - accuracy: 0.7803\n",
            "Epoch 203/250\n",
            "5/5 [==============================] - 0s 4ms/step - loss: 0.7573 - accuracy: 0.7803\n",
            "Epoch 204/250\n",
            "5/5 [==============================] - 0s 5ms/step - loss: 0.7556 - accuracy: 0.7803\n",
            "Epoch 205/250\n",
            "5/5 [==============================] - 0s 5ms/step - loss: 0.7540 - accuracy: 0.7803\n",
            "Epoch 206/250\n",
            "5/5 [==============================] - 0s 4ms/step - loss: 0.7533 - accuracy: 0.7727\n",
            "Epoch 207/250\n",
            "5/5 [==============================] - 0s 5ms/step - loss: 0.7508 - accuracy: 0.7727\n",
            "Epoch 208/250\n",
            "5/5 [==============================] - 0s 4ms/step - loss: 0.7491 - accuracy: 0.7727\n",
            "Epoch 209/250\n",
            "5/5 [==============================] - 0s 5ms/step - loss: 0.7477 - accuracy: 0.7727\n",
            "Epoch 210/250\n",
            "5/5 [==============================] - 0s 5ms/step - loss: 0.7458 - accuracy: 0.7652\n",
            "Epoch 211/250\n",
            "5/5 [==============================] - 0s 4ms/step - loss: 0.7444 - accuracy: 0.7652\n",
            "Epoch 212/250\n",
            "5/5 [==============================] - 0s 4ms/step - loss: 0.7429 - accuracy: 0.7576\n",
            "Epoch 213/250\n",
            "5/5 [==============================] - 0s 4ms/step - loss: 0.7417 - accuracy: 0.7652\n",
            "Epoch 214/250\n",
            "5/5 [==============================] - 0s 4ms/step - loss: 0.7399 - accuracy: 0.7727\n",
            "Epoch 215/250\n",
            "5/5 [==============================] - 0s 5ms/step - loss: 0.7380 - accuracy: 0.7727\n",
            "Epoch 216/250\n",
            "5/5 [==============================] - 0s 4ms/step - loss: 0.7366 - accuracy: 0.7727\n",
            "Epoch 217/250\n",
            "5/5 [==============================] - 0s 4ms/step - loss: 0.7350 - accuracy: 0.7727\n",
            "Epoch 218/250\n",
            "5/5 [==============================] - 0s 5ms/step - loss: 0.7338 - accuracy: 0.7727\n",
            "Epoch 219/250\n",
            "5/5 [==============================] - 0s 4ms/step - loss: 0.7321 - accuracy: 0.7652\n",
            "Epoch 220/250\n",
            "5/5 [==============================] - 0s 5ms/step - loss: 0.7304 - accuracy: 0.7727\n",
            "Epoch 221/250\n",
            "5/5 [==============================] - 0s 5ms/step - loss: 0.7292 - accuracy: 0.7727\n",
            "Epoch 222/250\n",
            "5/5 [==============================] - 0s 5ms/step - loss: 0.7273 - accuracy: 0.7803\n",
            "Epoch 223/250\n",
            "5/5 [==============================] - 0s 4ms/step - loss: 0.7263 - accuracy: 0.7803\n",
            "Epoch 224/250\n",
            "5/5 [==============================] - 0s 5ms/step - loss: 0.7246 - accuracy: 0.7803\n",
            "Epoch 225/250\n",
            "5/5 [==============================] - 0s 5ms/step - loss: 0.7233 - accuracy: 0.7803\n",
            "Epoch 226/250\n",
            "5/5 [==============================] - 0s 6ms/step - loss: 0.7223 - accuracy: 0.7727\n",
            "Epoch 227/250\n",
            "5/5 [==============================] - 0s 5ms/step - loss: 0.7212 - accuracy: 0.7727\n",
            "Epoch 228/250\n",
            "5/5 [==============================] - 0s 4ms/step - loss: 0.7195 - accuracy: 0.7803\n",
            "Epoch 229/250\n",
            "5/5 [==============================] - 0s 4ms/step - loss: 0.7179 - accuracy: 0.7803\n",
            "Epoch 230/250\n",
            "5/5 [==============================] - 0s 4ms/step - loss: 0.7164 - accuracy: 0.7727\n",
            "Epoch 231/250\n",
            "5/5 [==============================] - 0s 5ms/step - loss: 0.7153 - accuracy: 0.7727\n",
            "Epoch 232/250\n",
            "5/5 [==============================] - 0s 5ms/step - loss: 0.7137 - accuracy: 0.7803\n",
            "Epoch 233/250\n",
            "5/5 [==============================] - 0s 5ms/step - loss: 0.7127 - accuracy: 0.7879\n",
            "Epoch 234/250\n",
            "5/5 [==============================] - 0s 5ms/step - loss: 0.7116 - accuracy: 0.7879\n",
            "Epoch 235/250\n",
            "5/5 [==============================] - 0s 5ms/step - loss: 0.7109 - accuracy: 0.7803\n",
            "Epoch 236/250\n",
            "5/5 [==============================] - 0s 5ms/step - loss: 0.7084 - accuracy: 0.7803\n",
            "Epoch 237/250\n",
            "5/5 [==============================] - 0s 6ms/step - loss: 0.7070 - accuracy: 0.7727\n",
            "Epoch 238/250\n",
            "5/5 [==============================] - 0s 5ms/step - loss: 0.7053 - accuracy: 0.7727\n",
            "Epoch 239/250\n",
            "5/5 [==============================] - 0s 6ms/step - loss: 0.7039 - accuracy: 0.7727\n",
            "Epoch 240/250\n",
            "5/5 [==============================] - 0s 5ms/step - loss: 0.7028 - accuracy: 0.7652\n",
            "Epoch 241/250\n",
            "5/5 [==============================] - 0s 5ms/step - loss: 0.7013 - accuracy: 0.7727\n",
            "Epoch 242/250\n",
            "5/5 [==============================] - 0s 6ms/step - loss: 0.6998 - accuracy: 0.7727\n",
            "Epoch 243/250\n",
            "5/5 [==============================] - 0s 5ms/step - loss: 0.6987 - accuracy: 0.7803\n",
            "Epoch 244/250\n",
            "5/5 [==============================] - 0s 5ms/step - loss: 0.6972 - accuracy: 0.7803\n",
            "Epoch 245/250\n",
            "5/5 [==============================] - 0s 5ms/step - loss: 0.6962 - accuracy: 0.7879\n",
            "Epoch 246/250\n",
            "5/5 [==============================] - 0s 5ms/step - loss: 0.6950 - accuracy: 0.7803\n",
            "Epoch 247/250\n",
            "5/5 [==============================] - 0s 5ms/step - loss: 0.6939 - accuracy: 0.7803\n",
            "Epoch 248/250\n",
            "5/5 [==============================] - 0s 5ms/step - loss: 0.6929 - accuracy: 0.7803\n",
            "Epoch 249/250\n",
            "5/5 [==============================] - 0s 4ms/step - loss: 0.6920 - accuracy: 0.7727\n",
            "Epoch 250/250\n",
            "5/5 [==============================] - 0s 4ms/step - loss: 0.6906 - accuracy: 0.7879\n"
          ]
        },
        {
          "data": {
            "text/plain": [
              "<keras.src.callbacks.History at 0x781ca89c4100>"
            ]
          },
          "execution_count": 67,
          "metadata": {},
          "output_type": "execute_result"
        }
      ],
      "source": [
        "model.fit(X_train_avg, Y_train_one_hot, epochs = 250)"
      ]
    },
    {
      "cell_type": "code",
      "execution_count": 68,
      "metadata": {
        "colab": {
          "base_uri": "https://localhost:8080/",
          "height": 53
        },
        "id": "nyylf8d_TSFi",
        "outputId": "e8ad7350-e8af-4f1c-a7d7-9e68fe62dd96"
      },
      "outputs": [
        {
          "name": "stdout",
          "output_type": "stream",
          "text": [
            "1/1 [==============================] - 0s 34ms/step\n"
          ]
        },
        {
          "data": {
            "application/vnd.google.colaboratory.intrinsic+json": {
              "type": "string"
            },
            "text/plain": [
              "'😄'"
            ]
          },
          "execution_count": 68,
          "metadata": {},
          "output_type": "execute_result"
        }
      ],
      "source": [
        "my_test_avg = np.array([mytest])\n",
        "result = model.predict(my_test_avg)\n",
        "y_pred = np.argmax(result)\n",
        "y_pred\n",
        "label_to_emoji(y_pred)"
      ]
    },
    {
      "cell_type": "code",
      "execution_count": 73,
      "metadata": {
        "colab": {
          "base_uri": "https://localhost:8080/",
          "height": 53
        },
        "id": "Bo3EQ8N_givI",
        "outputId": "76a75f3d-9f1f-428c-9c8f-0ad35290d56a"
      },
      "outputs": [
        {
          "name": "stdout",
          "output_type": "stream",
          "text": [
            "1/1 [==============================] - 0s 17ms/step\n"
          ]
        },
        {
          "data": {
            "application/vnd.google.colaboratory.intrinsic+json": {
              "type": "string"
            },
            "text/plain": [
              "'🍽'"
            ]
          },
          "execution_count": 73,
          "metadata": {},
          "output_type": "execute_result"
        }
      ],
      "source": [
        "test = sentence_to_avg(\"She is eating pizza\")\n",
        "test_avg = np.array([test])\n",
        "result = model.predict(test_avg)\n",
        "y_pred = np.argmax(result)\n",
        "y_pred\n",
        "label_to_emoji(y_pred)"
      ]
    }
  ],
  "metadata": {
    "accelerator": "GPU",
    "colab": {
      "gpuType": "T4",
      "provenance": []
    },
    "kernelspec": {
      "display_name": "Python 3",
      "name": "python3"
    },
    "language_info": {
      "name": "python"
    }
  },
  "nbformat": 4,
  "nbformat_minor": 0
}
